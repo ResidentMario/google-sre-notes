{
 "cells": [
  {
   "cell_type": "markdown",
   "metadata": {},
   "source": [
    "## Introduction\n",
    "\n",
    "* The system administrator approach to handling operational concerns was the industry standard.\n",
    "* Its principal advantage is the large pool of available resources and talent for operating in this way.\n",
    "* Its disadvantages are the direct costs of non-automation, and the indirect costs of differences between the system administration team or teams and the development team or teams diverging and creating pathological tension.\n",
    "* This particularly becomes a problem as the company or product scales up."
   ]
  }
 ],
 "metadata": {
  "kernelspec": {
   "display_name": "Python 3",
   "language": "python",
   "name": "python3"
  },
  "language_info": {
   "codemirror_mode": {
    "name": "ipython",
    "version": 3
   },
   "file_extension": ".py",
   "mimetype": "text/x-python",
   "name": "python",
   "nbconvert_exporter": "python",
   "pygments_lexer": "ipython3",
   "version": "3.6.4"
  }
 },
 "nbformat": 4,
 "nbformat_minor": 2
}
